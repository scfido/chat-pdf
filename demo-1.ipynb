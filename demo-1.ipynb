{
 "cells": [
  {
   "cell_type": "markdown",
   "metadata": {},
   "source": [
    "# 准备环境\n",
    "\n",
    "1. 启动PostgreSQL数据库 "
   ]
  },
  {
   "cell_type": "markdown",
   "metadata": {},
   "source": [
    "我们使用PostgreSQL数据库来存储文本的向量，所以需要先启动PostgreSQL数据库。我们可以使用docker来启动PostgreSQL数据库，命令如下："
   ]
  },
  {
   "cell_type": "code",
   "execution_count": null,
   "metadata": {
    "dotnet_interactive": {
     "language": "pwsh"
    },
    "polyglot_notebook": {
     "kernelName": "pwsh"
    }
   },
   "outputs": [],
   "source": [
    "# 启动数据库\n",
    "docker run --name postgres -e POSTGRES_PASSWORD=123456 -p 5432:5432 -d ankane/pgvector:latest\n",
    "# 连接数据库，创建数据库\n",
    "docker exec -it postgres psql -h 127.0.0.1 -p 5432  -U postgres -c \"create DATABASE \"\"ChatPdf\"\"\"\n",
    "# 连接数据库，并启用pgvector扩展：\n",
    "docker exec -it postgres psql -h 127.0.0.1 -p 5432  -U postgres -d ChatPdf -c \"CREATE EXTENSION vector;\""
   ]
  },
  {
   "cell_type": "markdown",
   "metadata": {
    "tags": [
     "提示"
    ]
   },
   "source": [
    "以上命令请在命令行中执行。"
   ]
  },
  {
   "cell_type": "markdown",
   "metadata": {},
   "source": [
    "数据库启动后，我们需要创建一个数据库并启动pgvector扩展，命令如下：\n",
    "\n",
    "```sql\n",
    "CREATE DATABASE ChatPdf;\n",
    "CREATE EXTENSION vector;\n",
    "```\n",
    "\n",
    "查询vector扩展是否安装成功，命令如下：\n",
    "```sql\n",
    "select * from pg_extension;\n",
    "```\n",
    "正常输出如下：\n",
    "```text\n",
    "  oid  | extname | extowner | extnamespace | extrelocatable | extversion | extconfig | extcondition\n",
    "-------+---------+----------+--------------+----------------+------------+-----------+--------------\n",
    " 13743 | plpgsql |       10 |           11 | f              | 1.0        |           |\n",
    " 16385 | vector  |       10 |         2200 | t              | 0.2.0      |           |\n",
    "(2 rows)\n",
    "```"
   ]
  },
  {
   "cell_type": "markdown",
   "metadata": {},
   "source": [
    "2. 准备项目环境"
   ]
  },
  {
   "cell_type": "code",
   "execution_count": null,
   "metadata": {
    "dotnet_interactive": {
     "language": "pwsh"
    },
    "polyglot_notebook": {
     "kernelName": "pwsh"
    }
   },
   "outputs": [],
   "source": [
    "dotnet new console -o .\\\n",
    "dotnet user-secrets init"
   ]
  },
  {
   "cell_type": "markdown",
   "metadata": {},
   "source": [
    "2. 安装TencentCloude"
   ]
  },
  {
   "cell_type": "code",
   "execution_count": 5,
   "metadata": {
    "dotnet_interactive": {
     "language": "csharp"
    },
    "polyglot_notebook": {
     "kernelName": "csharp"
    }
   },
   "outputs": [
    {
     "data": {
      "text/html": [
       "<div><div></div><div></div><div><strong>Installed Packages</strong><ul><li><span>TencentCloudSDK, 3.0.947</span></li></ul></div></div>"
      ]
     },
     "metadata": {},
     "output_type": "display_data"
    }
   ],
   "source": [
    "#r \"nuget: TencentCloudSDK, 3.0.947\""
   ]
  },
  {
   "cell_type": "markdown",
   "metadata": {},
   "source": [
    "3. 在环境变量中添加TencentCloude的访问密钥，这部分请在你的命令行中执行。\n",
    "    \n",
    "    ```shell\n",
    "    dotnet user-secrets set \"TencentCloud:SecretId\" \"your-secret-id\"\n",
    "    dotnet user-secrets set \"TencentCloud:SecretKey\" \"your-secret-key\"\n",
    "    ```"
   ]
  },
  {
   "cell_type": "code",
   "execution_count": 6,
   "metadata": {
    "dotnet_interactive": {
     "language": "csharp"
    },
    "polyglot_notebook": {
     "kernelName": "csharp"
    }
   },
   "outputs": [
    {
     "ename": "Error",
     "evalue": "(7,19): error CS0246: 未能找到类型或命名空间名“ConfigurationBuilder”(是否缺少 using 指令或程序集引用?)\r\n(8,21): error CS0246: 未能找到类型或命名空间名“Program”(是否缺少 using 指令或程序集引用?)\r\n(14,12): error CS0102: 类型“Submission#4”已经包含“cred”的定义\r\n(11,16): error CS0103: 当前上下文中不存在名称“Configuration”\r\n(12,17): error CS0103: 当前上下文中不存在名称“Configuration”\r\n(19,34): error CS0229: 在“cred”和“cred”之间具有二义性",
     "output_type": "error",
     "traceback": [
      "(7,19): error CS0246: 未能找到类型或命名空间名“ConfigurationBuilder”(是否缺少 using 指令或程序集引用?)\r\n",
      "(8,21): error CS0246: 未能找到类型或命名空间名“Program”(是否缺少 using 指令或程序集引用?)\r\n",
      "(14,12): error CS0102: 类型“Submission#4”已经包含“cred”的定义\r\n",
      "(11,16): error CS0103: 当前上下文中不存在名称“Configuration”\r\n",
      "(12,17): error CS0103: 当前上下文中不存在名称“Configuration”\r\n",
      "(19,34): error CS0229: 在“cred”和“cred”之间具有二义性"
     ]
    }
   ],
   "source": [
    "using TencentCloud.Common;\n",
    "using TencentCloud.Cvm.V20170312;\n",
    "using TencentCloud.Cvm.V20170312.Models;\n",
    "\n",
    "// 从UserSecrets中读取环境变量\n",
    "// 初始化Configuration\n",
    "var builder = new ConfigurationBuilder()\n",
    "    .AddUserSecrets<Program>();\n",
    "Credential cred = new Credential {\n",
    "\n",
    "    SecretId = Configuration[\"TencentCloud:SecretId\"],\n",
    "    SecretKey = Configuration[\"TencentCloud:SecretKey\"]\n",
    "};\n",
    "Credential cred = new Credential {\n",
    "\n",
    "    SecretId = Environment.GetEnvironmentVariable(\"TencentCloud:SecretId\"),\n",
    "    SecretKey = Environment.GetEnvironmentVariable(\"TencentCloud:SecretKey\")\n",
    "};               \n",
    "CvmClient client = new CvmClient(cred, \"ap-guangzhou\");\n",
    "DescribeInstancesRequest req = new DescribeInstancesRequest();\n",
    "DescribeInstancesResponse resp = client.DescribeInstancesSync(req);\n",
    "Console.WriteLine(AbstractModel.ToJsonString(resp));"
   ]
  }
 ],
 "metadata": {
  "kernelspec": {
   "display_name": ".NET (C#)",
   "language": "C#",
   "name": ".net-csharp"
  },
  "language_info": {
   "name": "polyglot-notebook"
  },
  "polyglot_notebook": {
   "kernelInfo": {
    "defaultKernelName": "csharp",
    "items": [
     {
      "aliases": [],
      "languageName": "csharp",
      "name": "csharp"
     }
    ]
   }
  }
 },
 "nbformat": 4,
 "nbformat_minor": 2
}
